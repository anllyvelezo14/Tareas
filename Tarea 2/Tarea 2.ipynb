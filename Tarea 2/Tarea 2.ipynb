{
 "cells": [
  {
   "cell_type": "markdown",
   "metadata": {},
   "source": [
    "# Tarea 2"
   ]
  },
  {
   "cell_type": "markdown",
   "metadata": {},
   "source": [
    "# 1. two-by-two linear system"
   ]
  },
  {
   "cell_type": "code",
   "execution_count": 9,
   "metadata": {},
   "outputs": [],
   "source": [
    "import numpy as np"
   ]
  },
  {
   "cell_type": "code",
   "execution_count": null,
   "metadata": {},
   "outputs": [],
   "source": [
    "##  literal a\n",
    "## definiendo variables\n",
    "\n",
    "a=np.float16(1.130)\n",
    "b=np.float16(-6.990)\n",
    "c=np.float16(1.013)\n",
    "d=np.float16(-6.099)\n",
    "e=np.float16(14.20)\n",
    "f=np.float16(14.22)\n",
    "\n",
    "m=c/a\n",
    "\n",
    "d1=d-m*b\n",
    "f1=f-m*e\n",
    "y=f1/d1\n",
    "x=(e-b*y)/a\n",
    "\n",
    "#print ('%.16e,%.16f' %(x,y))\n",
    "print(\"x:{0} y: {1}\".format(x,y))"
   ]
  },
  {
   "cell_type": "code",
   "execution_count": 8,
   "metadata": {},
   "outputs": [
    {
     "name": "stdout",
     "output_type": "stream",
     "text": [
      "X:-0.0121002197265625 Y: -0.003177642822265625\n"
     ]
    }
   ],
   "source": [
    "## Literal b\n",
    "\n",
    "A=np.float16(8.110)\n",
    "B=np.float16(12.20)\n",
    "C=np.float16(-18.11)\n",
    "D=np.float16(112.2)\n",
    "E=np.float16(-0.1370)\n",
    "F=np.float16(-0.1376)\n",
    "\n",
    "M=C/A\n",
    "D1= D-M*B\n",
    "F1=F-M*E\n",
    "Y=F1/D1\n",
    "X=(E-B*Y)/A\n",
    "\n",
    "#print ('%.16e,%.16f' %(x,y))\n",
    "print(\"X:{0} Y: {1}\".format(X,Y))"
   ]
  },
  {
   "cell_type": "code",
   "execution_count": null,
   "metadata": {},
   "outputs": [],
   "source": [
    "## Gracias a la esctructura de procesamiento el pc, los valores confiables estan albergados en las primeras 16 \n",
    "##cifras decimales"
   ]
  },
  {
   "cell_type": "markdown",
   "metadata": {},
   "source": [
    "# 3. Find the roots of the next equation"
   ]
  },
  {
   "cell_type": "code",
   "execution_count": 29,
   "metadata": {},
   "outputs": [
    {
     "name": "stdout",
     "output_type": "stream",
     "text": [
      "x1:-0.014633701634199525 x3:-62.079116298365804 \n",
      "x2:-0.016108476724987216 x4:-62.096678641653476 \n"
     ]
    }
   ],
   "source": [
    "a=np.float16(1)\n",
    "b=np.float16(62.10)\n",
    "c=np.float16(1)\n",
    "e=np.float16(2)\n",
    "\n",
    "import math as m\n",
    "d=m.sqrt((b**e)-(4*a*c))\n",
    "\n",
    "x1= (-b+d)/(e*a)\n",
    "\n",
    "x2= (-e*c)/(b+d)\n",
    "\n",
    "x3= (-b-d)/(e*a)\n",
    "\n",
    "x4= (-e*c)/b-d\n",
    "\n",
    "print (\"x1:{0} x3:{1} \".format(x1,x3))\n",
    "print (\"x2:{0} x4:{1} \".format(x2,x4))"
   ]
  },
  {
   "cell_type": "code",
   "execution_count": null,
   "metadata": {},
   "outputs": [],
   "source": [
    "## Como se puede evidenciar, los resultados son muy similares y la diferencia genera un error muy pequeño\n",
    "## sin embargo, emplear 16 decimales garantiza una mejor precisión y se puede notar que es de vital importancia\n",
    "##la forma como se pide al programa calcular una valor determinado."
   ]
  }
 ],
 "metadata": {
  "kernelspec": {
   "display_name": "Python 3",
   "language": "python",
   "name": "python3"
  },
  "language_info": {
   "codemirror_mode": {
    "name": "ipython",
    "version": 3
   },
   "file_extension": ".py",
   "mimetype": "text/x-python",
   "name": "python",
   "nbconvert_exporter": "python",
   "pygments_lexer": "ipython3",
   "version": "3.6.4"
  }
 },
 "nbformat": 4,
 "nbformat_minor": 2
}
