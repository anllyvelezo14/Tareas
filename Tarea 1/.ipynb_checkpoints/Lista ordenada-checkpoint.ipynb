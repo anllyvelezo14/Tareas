{
 "cells": [
  {
   "cell_type": "code",
   "execution_count": 22,
   "metadata": {},
   "outputs": [
    {
     "name": "stdout",
     "output_type": "stream",
     "text": [
      "Ingrese cuantos numeros aleatorios desea obtener\n",
      "4\n",
      "LOS NUMEROS ALEATORIOS SON: [0.09011559727468554, 0.48599929567265066, 0.20440133873602673, 0.42461251004329437] ORDENADOS EN LA LISTA:  [0.09011559727468554, 0.20440133873602673, 0.42461251004329437, 0.48599929567265066]\n"
     ]
    }
   ],
   "source": [
    "##generando una lista de n terminos aleatorios\n",
    "\n",
    "import random\n",
    "def listaAleatorios(n):\n",
    "      lista = [0]  * n\n",
    "      for i in range(n):\n",
    "          lista[i] = random.random()\n",
    "      return lista\n",
    "\n",
    "print(\"Ingrese cuantos numeros aleatorios desea obtener\")\n",
    "n=int(input())\n",
    "\n",
    "aleatorios=listaAleatorios(n)\n",
    "#print(aleatorios)\n",
    "\n",
    "\n",
    "\n",
    "## ordenando la lista anterior\n",
    "ordlist=sorted(aleatorios)\n",
    "print(\"LOS NUMEROS ALEATORIOS SON:\", aleatorios, \"ORDENADOS EN LA LISTA: \", ordlist)"
   ]
  },
  {
   "cell_type": "code",
   "execution_count": 24,
   "metadata": {},
   "outputs": [
    {
     "name": "stdout",
     "output_type": "stream",
     "text": [
      "[0.09023987 0.04785054 0.93313373 0.99822292]\n",
      "LOS NUMEROS ALEATORIOS SON: [0.09023987 0.04785054 0.93313373 0.99822292] LA LISTA ORDENADA ES: [0.047850537844476015, 0.09023987151501778, 0.9331337260640304, 0.9982229246325778]\n"
     ]
    }
   ],
   "source": [
    "## Otra forma mas sencilla de realizar el proceso\n",
    "\n",
    "import numpy as np\n",
    "\n",
    "A= np.random.rand(4)\n",
    "print (A)\n",
    "\n",
    "listord=sorted(A)\n",
    "print(\"LOS NUMEROS ALEATORIOS SON:\", A, \"LA LISTA ORDENADA ES:\", listord)"
   ]
  },
  {
   "cell_type": "code",
   "execution_count": null,
   "metadata": {},
   "outputs": [],
   "source": []
  }
 ],
 "metadata": {
  "kernelspec": {
   "display_name": "Python 3",
   "language": "python",
   "name": "python3"
  },
  "language_info": {
   "codemirror_mode": {
    "name": "ipython",
    "version": 3
   },
   "file_extension": ".py",
   "mimetype": "text/x-python",
   "name": "python",
   "nbconvert_exporter": "python",
   "pygments_lexer": "ipython3",
   "version": "3.6.4"
  }
 },
 "nbformat": 4,
 "nbformat_minor": 2
}
