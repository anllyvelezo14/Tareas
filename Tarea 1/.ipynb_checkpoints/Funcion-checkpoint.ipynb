{
 "cells": [
  {
   "cell_type": "code",
   "execution_count": null,
   "metadata": {},
   "outputs": [],
   "source": [
    "import numpy as np\n",
    "import matplotlib.pyplot as plt\n",
    "from tabulate import tabulate"
   ]
  },
  {
   "cell_type": "code",
   "execution_count": 2,
   "metadata": {},
   "outputs": [
    {
     "name": "stdout",
     "output_type": "stream",
     "text": [
      "RESULTADOS\n",
      "Contador    X            f(x)                 f1(x)\n",
      "0       0     0.0     0.0\n",
      "1       0.5     0.1012958872707979     0.10129588727079789\n",
      "2       1.0     0.6854516566117281     0.6854516566117282\n",
      "3       1.5     1.9461516513665853     1.9461516513665849\n",
      "4       2.0     3.6231077939066254     3.6231077939066294\n",
      "5       2.5     4.536102934226723     4.536102934226725\n",
      "6       3.0     1.9598356553963279     1.9598356553963283\n",
      "7       3.5     -8.727974920322726     -8.727974920322735\n",
      "8       4.0     -33.23984582674631     -33.23984582674633\n",
      "9       4.5     -74.99493505574678     -74.9949350557468\n",
      "10       5.0     -127.49311067713263     -127.49311067713298\n",
      "11       5.5     -161.57128926589843     -161.57128926589857\n",
      "12       6.0     -109.6749643129673     -109.67496431296621\n",
      "13       6.5     144.15113563327623     144.151135633284\n",
      "14       7.0     749.0904203079729     749.0904203080738\n",
      "15       7.5     1814.7153544179967     1814.7153544191997\n",
      "16       8.0     3240.0658520803086     3240.065852088271\n",
      "17       8.5     4417.46159918396     4417.461599221709\n",
      "18       9.0     3844.661585889232     3844.661585987705\n",
      "19       9.5     -1180.388538696706     -1180.3885387776259\n"
     ]
    }
   ],
   "source": [
    "##definiendo las funciones\n",
    "\n",
    "def fact(x): \n",
    "    if x==0: \n",
    "        return 1\n",
    "    else: \n",
    "        n=1\n",
    "        for i in range(1,x+1):\n",
    "            n=n*i\n",
    "    return n\n",
    "\n",
    "def sin(x,N): \n",
    "    sin=0\n",
    "    for n in range(0,N+1):\n",
    "        sin=sin+(-1)**n*x**(2.*n+1)/fact(2*n+1)\n",
    "    return sin\n",
    "\n",
    "def ln(x,N):\n",
    "    ln=0\n",
    "    for n in range(0,N+1):\n",
    "        ln=ln+((x-1.)/(x+1.))**(2.*n+1)/(2.*n+1)\n",
    "    return 2*ln\n",
    "\n",
    "def sinh(x,N):\n",
    "    sinh=0\n",
    "    for n in range(0,N+1):\n",
    "        sinh=sinh+x**(2.*n+1)/fact(2*n+1)\n",
    "    return sinh\n",
    "\n",
    "def rad(x):\n",
    "    rad=x*3.1415/180\n",
    "    return rad\n",
    "\n",
    "## la funcion general aproximada\n",
    "def f(x):\n",
    "    N=50\n",
    "    y=sin(x,N)*ln(x+1,N)*sinh(x,N)\n",
    "    return y\n",
    "\n",
    "#funcion general real\n",
    "def f1(x):\n",
    "    y=np.sin(x)*np.log(x+1)*np.sinh(x)\n",
    "    return y\n",
    "\n",
    "print(\"RESULTADOS\")\n",
    "\n",
    "#definiendo listas \n",
    "X=[]\n",
    "Y=[]\n",
    "X1=[]\n",
    "Y1=[]\n",
    "x=0\n",
    "dx=.5\n",
    "\n",
    "while x<10:\n",
    "    X.append(x)\n",
    "    Y.append(f(x))\n",
    "    X1.append(x)\n",
    "    Y1.append(f1(x))\n",
    "    x=x+dx\n",
    "    \n",
    "print ('Contador    X            f(x)                 f1(x)')\n",
    "for i in range(0,len(X)):\n",
    "    print(i,'     ', X[i], '   ', Y[i],'   ', Y1[i])"
   ]
  },
  {
   "cell_type": "code",
   "execution_count": null,
   "metadata": {},
   "outputs": [],
   "source": []
  }
 ],
 "metadata": {
  "kernelspec": {
   "display_name": "Python 3",
   "language": "python",
   "name": "python3"
  },
  "language_info": {
   "codemirror_mode": {
    "name": "ipython",
    "version": 3
   },
   "file_extension": ".py",
   "mimetype": "text/x-python",
   "name": "python",
   "nbconvert_exporter": "python",
   "pygments_lexer": "ipython3",
   "version": "3.6.4"
  }
 },
 "nbformat": 4,
 "nbformat_minor": 2
}
