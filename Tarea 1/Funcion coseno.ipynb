{
 "cells": [
  {
   "cell_type": "code",
   "execution_count": 5,
   "metadata": {},
   "outputs": [],
   "source": [
    "#Funcion coseno\n",
    "\n",
    "import numpy as np\n",
    "\n",
    "#definiendo la funcion factorial\n",
    "def factorial(x):\n",
    "    if x==0:\n",
    "        return 1\n",
    "    else:\n",
    "        value=1\n",
    "        for i in range(1,x+1):\n",
    "            value=value*i\n",
    "        return value"
   ]
  },
  {
   "cell_type": "code",
   "execution_count": 6,
   "metadata": {},
   "outputs": [],
   "source": [
    "def coseno(x,N):\n",
    "    sum=0\n",
    "    for n in range(0,N+1):\n",
    "        sum = sum + (-1)**n*x**(2*n)/factorial(2*n)\n",
    "    return sum"
   ]
  },
  {
   "cell_type": "code",
   "execution_count": 20,
   "metadata": {},
   "outputs": [
    {
     "name": "stdout",
     "output_type": "stream",
     "text": [
      "El coseno de 1π/2, es 0.019969\n",
      "El coseno de 2π/2, es 0.123910\n",
      "El coseno de 3π/2, es 10.443925\n",
      "El coseno de 4π/2, es 46.200185\n",
      "El coseno de 5π/2, es 128.700929\n"
     ]
    }
   ],
   "source": [
    "#2 iteraciones\n",
    "n=0 \n",
    "for i in range(0,5):\n",
    "    n=n+1\n",
    "    print (\"El coseno de %dπ/2, es %f\" %(n,coseno(np.pi*n/2,2))"
   ]
  },
  {
   "cell_type": "code",
   "execution_count": 25,
   "metadata": {},
   "outputs": [
    {
     "name": "stdout",
     "output_type": "stream",
     "text": [
      "El coseno de 1π/2, es -0.000000\n",
      "El coseno de 2π/2, es -1.001829\n",
      "El coseno de 3π/2, es -0.222441\n",
      "El coseno de 4π/2, es -5.438247\n",
      "El coseno de 5π/2, es -84.318608\n"
     ]
    }
   ],
   "source": [
    "#5 iteraciones\n",
    "n=0 \n",
    "for i in range(0,5):\n",
    "    n=n+1\n",
    "    print (\"El coseno de %dπ/2, es %f\" %(n,coseno(np.pi*n/2,5)))"
   ]
  },
  {
   "cell_type": "code",
   "execution_count": 27,
   "metadata": {},
   "outputs": [
    {
     "name": "stdout",
     "output_type": "stream",
     "text": [
      "El coseno de 1π/2, es 0.000000\n",
      "El coseno de 2π/2, es -1.000000\n",
      "El coseno de 3π/2, es 0.000001\n",
      "El coseno de 4π/2, es 1.000301\n",
      "El coseno de 5π/2, es 0.039311\n"
     ]
    }
   ],
   "source": [
    "#10 iteraciones\n",
    "n=0 \n",
    "for i in range(0,5):\n",
    "    n=n+1\n",
    "    print (\"El coseno de %dπ/2, es %f\" %(n,coseno(np.pi*n/2,10)))\n",
    "    "
   ]
  }
 ],
 "metadata": {
  "kernelspec": {
   "display_name": "Python 3",
   "language": "python",
   "name": "python3"
  },
  "language_info": {
   "codemirror_mode": {
    "name": "ipython",
    "version": 3
   },
   "file_extension": ".py",
   "mimetype": "text/x-python",
   "name": "python",
   "nbconvert_exporter": "python",
   "pygments_lexer": "ipython3",
   "version": "3.6.4"
  }
 },
 "nbformat": 4,
 "nbformat_minor": 2
}
