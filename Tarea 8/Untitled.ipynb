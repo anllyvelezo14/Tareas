{
 "cells": [
  {
   "cell_type": "markdown",
   "metadata": {},
   "source": [
    "# <h2><center> Exercises </center></h2>\n",
    "\n",
    "\n",
    "1. Computes the integral $$ \\int_0^1 dx \\frac{4}{1+x^2} $$ by Riemman sums with $N=1,10^2, 10^4,10^6, 10^8$ and gives percent error and computational time. Predict the computational time for $N=10^{12}$, and obtain the minimum $N$ for error $10^{-6}$.\n",
    "\n",
    "<h2><center>  </center></h2>\n",
    "\n",
    "2. An experiment has measured $dN(t)/dt$, the number of particles entering a counter, per unit time, as a function of time. Your problem is to integrate this spectrum to obtain the number of particles $N(1)$ that entered the counter in the first second \n",
    "$$ N(1) = \\int_0^1 e^{-t} dt$$\n",
    "Compare the relative error for the composite trapezoid and Simpson rules. Try different values of N. Make a logarithmic plot of N vs Error.\n"
   ]
  },
  {
   "cell_type": "markdown",
   "metadata": {},
   "source": [
    "Integration is the second fundamental concept of calculus (along with differentiation). Numerical approaches are generally more useful here than in differentiation as the antiderivative procedure (analytically) is often much more complex, or even not possible. In this section we will cover some basic schemes, including numerical quadratures.\n",
    "\n",
    "Geometrically, integration can be understood as the area below a funtion within a given interval. Formally, given a function $f(x)$ such that $f\\in C^{1}[a,b]$, the antiderivative is defined as\n",
    "\n",
    "$$F(x) = \\int f(x) dx$$\n",
    "\n",
    "valid for all $x$ in $[a,b]$. However, a more useful expression is a definite integral, where the antiderivative is evaluated within some interval, i.e.\n",
    "\n",
    "$$F(x_1) - F(x_0) = \\int_{x_0}^{x_1} f(x) dx$$\n",
    "\n",
    "This procedure can be formally thought as a generalization of discrete weighted summation. This idea will be exploited below and will lead us to some first approximations to integration."
   ]
  },
  {
   "cell_type": "code",
   "execution_count": 1,
   "metadata": {},
   "outputs": [],
   "source": [
    "import numpy as np\n",
    "import scipy.integrate as integrate\n",
    "import time\n",
    "import matplotlib.pyplot as plt"
   ]
  },
  {
   "cell_type": "code",
   "execution_count": 2,
   "metadata": {},
   "outputs": [],
   "source": [
    "f = lambda x: 4./(1.+x**2)"
   ]
  },
  {
   "cell_type": "code",
   "execution_count": 3,
   "metadata": {},
   "outputs": [
    {
     "name": "stdout",
     "output_type": "stream",
     "text": [
      "Para N=10e 0, f(x)= 4.0000000000000000e+00, error=2.73e-01, t=3.03e-05 s\n",
      "Para N=10e 2, f(x)= 3.1515759869231270e+00, error=3.18e-03, t=1.03e-04 s\n",
      "Para N=10e 4, f(x)= 3.1416926519231168e+00, error=3.18e-05, t=8.32e-03 s\n",
      "Para N=10e 6, f(x)= 3.1415936535895672e+00, error=3.18e-07, t=7.43e-01 s\n",
      "Para N=10e 8, f(x)= 3.1415926635900346e+00, error=3.18e-09, t=7.71e+01 s\n"
     ]
    }
   ],
   "source": [
    "t_list = []\n",
    "i_list = []\n",
    "e_list = []\n",
    "for j in range(0,9,2):\n",
    "    \n",
    "    t0=time.time()\n",
    "    \n",
    "    a=0\n",
    "    b=1.\n",
    "    N=10**j\n",
    "    dx=(b-a)/N\n",
    "\n",
    "    sum = 0\n",
    "    n=np.arange(a,b,dx)\n",
    "    for i in n:\n",
    "        sum+=f(i)*dx\n",
    "    error = abs(sum-np.pi)/np.pi\n",
    "    \n",
    "    tiempo_comp=time.time()-t0\n",
    "    t_list.append(tiempo_comp)\n",
    "    i_list.append(j)\n",
    "    e_list.append(error)\n",
    "    print(\"Para N=10e %d, f(x)= %.16e, error=%.2e, t=%.2e s\" %(j,sum,error,tiempo_comp))"
   ]
  },
  {
   "cell_type": "code",
   "execution_count": 4,
   "metadata": {},
   "outputs": [
    {
     "data": {
      "image/png": "[encoded data removed]",
      "text/plain": [
       "<matplotlib.figure.Figure at 0x7f30b107ab70>"
      ]
     },
     "metadata": {},
     "output_type": "display_data"
    },
    {
     "data": {
      "image/png": "[encoded data removed]",
      "text/plain": [
       "<matplotlib.figure.Figure at 0x7f30b0d1f7b8>"
      ]
     },
     "metadata": {},
     "output_type": "display_data"
    }
   ],
   "source": [
    "fig=plt.figure()\n",
    "plt.subplot(2,1,1)\n",
    "ax=plt.axes()\n",
    "ax.grid()\n",
    "ax.plot(i_list,e_list,'*')\n",
    "ax.set_yscale('log')\n",
    "\n",
    "plt.subplot(2,1,2)\n",
    "ax=plt.axes()\n",
    "ax.grid()\n",
    "ax.plot(i_list,t_list,'*')\n",
    "ax.set_yscale('log')\n",
    "plt.show()\n",
    "\n",
    "fig=plt.figure()\n",
    "ax=plt.axes()\n",
    "ax.grid()\n",
    "ax.plot(i_list,t_list,'*')\n",
    "ax.set_yscale('log')\n",
    "plt.show()"
   ]
  },
  {
   "cell_type": "code",
   "execution_count": null,
   "metadata": {},
   "outputs": [],
   "source": [
    "f = lambda t: np.exp(-t)\n",
    "\n",
    "int_f = lambda a,b: -np.exp(-b)+np.exp(-a) #integral verdadera\n",
    "\n",
    "### Composite Trapezoidal Rule\n",
    "def TrapComp(f,a,b,n):\n",
    "    h=(b-a)/np.float(n) #Espaciamiento\n",
    "\n",
    "    sum = 0\n",
    "    for i in range(1,n):\n",
    "        sum+= f(a+h*i) \n",
    "    return h/2.*(f(a)+2.*sum+f(b))\n",
    "    return sum\n",
    "\n",
    "### Simpsons Composite Rule\n",
    "def SimpComp(f,a,b,n): \n",
    "    \n",
    "    h = (b-a)/np.float(n) #Espaciamiento\n",
    "    \n",
    "    x_node = np.zeros(n+1) # Vector de nodos\n",
    "    \n",
    "    for i in range(n+1): \n",
    "        x_node[i] = a+ h*i\n",
    "            \n",
    "    #Integracion\n",
    "    suma_impar = 0\n",
    "    for i in range(1,int(n/2.)+1):\n",
    "        suma_impar += f(x_node[2*i-1])\n",
    "    \n",
    "    suma_par = 0\n",
    "    for i in range(1,int(n/2.)):\n",
    "        suma_par+= f(x_node[2*i])\n",
    "\n",
    "    return h/3.*(f(a)+2.*suma_par+4.*suma_impar+f(b))\n",
    "\n",
    "\n",
    "\n",
    "\n",
    "\n"
   ]
  }
 ],
 "metadata": {
  "kernelspec": {
   "display_name": "Python 3",
   "language": "python",
   "name": "python3"
  },
  "language_info": {
   "codemirror_mode": {
    "name": "ipython",
    "version": 3
   },
   "file_extension": ".py",
   "mimetype": "text/x-python",
   "name": "python",
   "nbconvert_exporter": "python",
   "pygments_lexer": "ipython3",
   "version": "3.6.4"
  }
 },
 "nbformat": 4,
 "nbformat_minor": 2
}
