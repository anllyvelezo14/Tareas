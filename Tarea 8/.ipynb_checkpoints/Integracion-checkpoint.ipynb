{
 "cells": [
  {
   "cell_type": "code",
   "execution_count": 4,
   "metadata": {},
   "outputs": [],
   "source": [
    "from scipy import integrate\n",
    "import matplotlib.pyplot as plt\n",
    "import numpy as np"
   ]
  },
  {
   "cell_type": "markdown",
   "metadata": {},
   "source": [
    "### ¿En qué consiste la integración numérica?\n",
    "\n",
    "La integración número surgue de la necesidad de encontrar un valor numérico para cierto tipo de integrales definidas que en la práctica resultan bastante complejas de calcular o de cuyas primitivas no se posee. Para esto se han desarrollado todo un conjunto de algoritmos capaces de obtener estos valores numéricos. \n",
    "\n",
    "Podemos de entonces de lo anterior que la integración numérica es un aproximacióncon cierto error del valor real de la integral definida. "
   ]
  },
  {
   "cell_type": "markdown",
   "metadata": {},
   "source": [
    "### Método del trapecio\n",
    "\n",
    "Geométricamente, la regla del trapecio es equivalente a aproximar el área del trapecio bajo la línea recta que une f(a) y f(b).  es una forma de aproximar unaintegral definida utilizando n trapecios. En la formulación de este método se suponeque f es continua y positiva en el intervalo [a,b].\n",
    "\n",
    "a) La fórmula para calcular el área de un trapezoide: altura por el promedio de las bases.\n",
    "b) Para la regla del trapecio, el concepto es el mismo pero ahora el trapezoide está sobre\n",
    "su lado.\n",
    "\n",
    "donde, para la regla del trapecio, la altura promedio es el promedio de los valores de la función en los puntos extremos, o [f(a) + f(b)]/2.\n",
    "\n",
    "###Error del método del Trapecio\n",
    "\n",
    "Cuando empleamos la integral bajo un segmento de línea recta para aproximar la integral bajo una curva, obviamente se tiene un error que puede ser importante.\n",
    "\n",
    "Et = −(1/12)f''(ξ )( b − a )**3\n"
   ]
  },
  {
   "cell_type": "code",
   "execution_count": 5,
   "metadata": {},
   "outputs": [],
   "source": [
    "def f(x):\n",
    "    return np.sqrt(9 - x ** 2)\n"
   ]
  },
  {
   "cell_type": "code",
   "execution_count": 10,
   "metadata": {},
   "outputs": [
    {
     "name": "stdout",
     "output_type": "stream",
     "text": [
      "El área es aproximadamente: 13.128990204491958\n"
     ]
    }
   ],
   "source": [
    "n = 6 \n",
    "a = -3\n",
    "b = 3 \n",
    "dx = (b - a)/ n\n",
    "suma = 0\n",
    "\n",
    "for i in range(n):\n",
    "    are = (f(a) + f(a + dx))* dx / 2\n",
    "    suma = suma + are\n",
    "    a = a + dx\n",
    "print(\"El área es aproximadamente:\", suma)"
   ]
  },
  {
   "cell_type": "code",
   "execution_count": 7,
   "metadata": {},
   "outputs": [
    {
     "name": "stdout",
     "output_type": "stream",
     "text": [
      "(14.137166941154094, 9.002119938372743e-09)\n"
     ]
    }
   ],
   "source": [
    "x2 = lambda x: np.sqrt(9 - x ** 2)\n",
    "real = integrate.quad(x2, -3, 3)\n",
    "print(real)"
   ]
  },
  {
   "cell_type": "code",
   "execution_count": 26,
   "metadata": {},
   "outputs": [
    {
     "name": "stdout",
     "output_type": "stream",
     "text": [
      "El error es: 7.131391606668212\n"
     ]
    }
   ],
   "source": [
    " ea = np.abs(real[0] - suma)/real[0] * 100\n",
    " print(\"El error es:\",ea)"
   ]
  },
  {
   "cell_type": "markdown",
   "metadata": {},
   "source": [
    "### Método de Simpson"
   ]
  },
  {
   "cell_type": "code",
   "execution_count": null,
   "metadata": {},
   "outputs": [],
   "source": []
  }
 ],
 "metadata": {
  "kernelspec": {
   "display_name": "Python 3",
   "language": "python",
   "name": "python3"
  },
  "language_info": {
   "codemirror_mode": {
    "name": "ipython",
    "version": 3
   },
   "file_extension": ".py",
   "mimetype": "text/x-python",
   "name": "python",
   "nbconvert_exporter": "python",
   "pygments_lexer": "ipython3",
   "version": "3.6.4"
  }
 },
 "nbformat": 4,
 "nbformat_minor": 1
}
