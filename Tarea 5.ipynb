{
 "cells": [
  {
   "cell_type": "markdown",
   "metadata": {},
   "source": [
    "# Relativistic Gas"
   ]
  },
  {
   "cell_type": "markdown",
   "metadata": {},
   "source": [
    "# is necessary to find the roots of the following fourth order equation\n",
    "\n",
    "$$(S^2- \\hat{E}^2)\\gamma^4 + 2G\\hat{E}\\gamma^3 + (\\hat{E}^2-2GS^2-G^2)\\gamma^2 - 2G\\hat{E}\\gamma + G^2(1+S^2) = 0$$\n",
    "where $G = 1 - 1/\\Gamma$ and the lorentz factor is given by $\\gamma = 1/\\sqrt{1-v^2/c^2}$.\n",
    "\n",
    "Consider a gas with $\\Gamma=1$ and rewrite the equation in terms of $a= S^2/\\hat{E^2}$. Choose a value such that $0&lt;a&lt;1$ and find the root with physical sense.\n",
    "\n"
   ]
  },
  {
   "cell_type": "code",
   "execution_count": 3,
   "metadata": {},
   "outputs": [],
   "source": [
    "##Uilizando el codigo de bisección para hallar las raices\n",
    "\n",
    "import numpy as np\n",
    "import matplotlib.pyplot as plt"
   ]
  },
  {
   "cell_type": "code",
   "execution_count": 8,
   "metadata": {},
   "outputs": [],
   "source": [
    "def f(x):\n",
    "    value= (((.5)-1)*x**4)+(x**2) #ecuación dada\n",
    "    return value\n",
    "\n",
    "def sign(x):\n",
    "    if x>0:\n",
    "        return 1\n",
    "    elif x<0:\n",
    "        return -1\n",
    "    else:\n",
    "        return 0"
   ]
  },
  {
   "cell_type": "code",
   "execution_count": 15,
   "metadata": {},
   "outputs": [
    {
     "data": {
      "image/png": "[encoded data removed]",
      "text/plain": [
       "<matplotlib.figure.Figure at 0x7f55f5b675c0>"
      ]
     },
     "metadata": {},
     "output_type": "display_data"
    }
   ],
   "source": [
    "##Graficando la función para visualizar las raices\n",
    "\n",
    "x=np.arange(-2,2,0.1)\n",
    "y=[]\n",
    "for i in range(0,len(x)):\n",
    "    y.append(f(x[i]))\n",
    "plt.plot(x,y)\n",
    "plt.grid()\n",
    "plt.show()"
   ]
  },
  {
   "cell_type": "code",
   "execution_count": 17,
   "metadata": {},
   "outputs": [
    {
     "name": "stdout",
     "output_type": "stream",
     "text": [
      "p=-1.500000, f(p)=-0.281250, error=0.250000 \n",
      "p=-1.250000, f(p)=0.341797, error=0.125000 \n",
      "p=-1.375000, f(p)=0.103394, error=0.062500 \n",
      "p=-1.437500, f(p)=-0.068611, error=0.031250 \n",
      "p=-1.406250, f(p)=0.022209, error=0.015625 \n",
      "p=-1.421875, f(p)=-0.021965, error=0.007812 \n",
      "p=-1.414062, f(p)=0.000427, error=0.003906 \n",
      "p=-1.417969, f(p)=-0.010692, error=0.001953 \n",
      "p=-1.416016, f(p)=-0.005113, error=0.000977 \n",
      "p=-1.415039, f(p)=-0.002338, error=0.000488 \n",
      "p=-1.414551, f(p)=-0.000954, error=0.000244 \n",
      "p=-1.414307, f(p)=-0.000263, error=0.000122 \n",
      "p=-1.414185, f(p)=0.000082, error=0.000061 \n",
      "p=-1.414246, f(p)=-0.000091, error=0.000031 \n",
      "p=-1.414215, f(p)=-0.000004, error=0.000015 \n",
      "p=-1.414200, f(p)=0.000039, error=0.000008 \n",
      "f(x)=0 con x=-1.41420\n"
     ]
    }
   ],
   "source": [
    "#Intervalo inicial\n",
    "p1=-2 #ptos extremos del intervalo\n",
    "p2=-1\n",
    "\n",
    "Nmax=1000 #Número máximo de iteraciones\n",
    "Tol=1.0e-5\n",
    "error=1.0\n",
    "iteracion=0\n",
    "while(error>Tol):\n",
    "    p=(p1+p2)*.5\n",
    "    if(sign(f(p))*sign(f(p1))<0):\n",
    "        p2=p\n",
    "    if(sign(f(p))*sign(f(p2))<0):\n",
    "        p1=p\n",
    "    error=abs(p-(p1+p2)*0.5)\n",
    "    iteracion+=1\n",
    "    print(\"p=%.6f, f(p)=%.6f, error=%.6f \"%(p,f(p),error))\n",
    "    if(iteracion>=Nmax):\n",
    "        print(\"se ha alcanzado el número máximo de iteraciones\")\n",
    "        break\n",
    "print(\"f(x)=0 con x=%.5f\"%(p))\n",
    "    "
   ]
  },
  {
   "cell_type": "code",
   "execution_count": 27,
   "metadata": {},
   "outputs": [
    {
     "name": "stdout",
     "output_type": "stream",
     "text": [
      "Intervalo inadecuado\n"
     ]
    }
   ],
   "source": [
    "def func(x):\n",
    "    value=(((.5)-1)*x**4)+(x**2)\n",
    "    return value\n",
    "\n",
    "def sign(x):\n",
    "    if x>0:\n",
    "        return 1\n",
    "    elif x<0:\n",
    "        return -1\n",
    "    else:\n",
    "        return 0 \n",
    "    \n",
    "    \n",
    "#Longitud inicial del intervalo \n",
    "ai=-.5\n",
    "bi=.5\n",
    "\n",
    "#Tolerancia \n",
    "Tol= 1.e-4\n",
    "\n",
    "#Error inicial \n",
    "error=1. #Siempre tiene que ser mayor que la tolerancia \n",
    "#Número máximo de iteraciones \n",
    "Nmax=1000 \n",
    "iteracion=0\n",
    "#Verificación del tma del valor medio \n",
    "\n",
    "if (sign(func(ai))*sign(func(bi))<0):\n",
    "    while(error>Tol):\n",
    "        pi=(ai+bi)*.5\n",
    "        pi_previo=pi\n",
    "        \n",
    "        if(sign(func(pi))==sign(func(ai))):\n",
    "            ai=pi\n",
    "            bi=bi\n",
    "            #pi=(ai+bi)*.5\n",
    "        elif(sign(func(pi))==sign(func(bi))):\n",
    "            ai=ai\n",
    "            bi=pi\n",
    "            \n",
    "        pi=(ai+bi)*.5\n",
    "        error=abs(pi-pi_previo)\n",
    "        iteracion+=1\n",
    "        \n",
    "        print(\"pi=%f\\t ai=%f\\t bi=%f\\t f(pi)=% f\\t error=%f\"%(pi, ai, bi, abs(func(pi)), error))\n",
    "        \n",
    "        if (iteracion>=Nmax):\n",
    "            print(\"Número máximo de iteraciones excedido\")\n",
    "            break\n",
    "else:\n",
    "    print(\"Intervalo inadecuado\")\n",
    "    \n",
    "#print(\"solucion=%.5e\"%func(pi))"
   ]
  },
  {
   "cell_type": "code",
   "execution_count": 29,
   "metadata": {},
   "outputs": [
    {
     "name": "stdout",
     "output_type": "stream",
     "text": [
      "p=1.000000, f(p)=0.500000, error=0.250000 \n",
      "p=1.250000, f(p)=0.341797, error=0.125000 \n",
      "p=1.375000, f(p)=0.103394, error=0.062500 \n",
      "p=1.437500, f(p)=-0.068611, error=0.031250 \n",
      "p=1.406250, f(p)=0.022209, error=0.015625 \n",
      "p=1.421875, f(p)=-0.021965, error=0.007812 \n",
      "p=1.414062, f(p)=0.000427, error=0.003906 \n",
      "p=1.417969, f(p)=-0.010692, error=0.001953 \n",
      "p=1.416016, f(p)=-0.005113, error=0.000977 \n",
      "p=1.415039, f(p)=-0.002338, error=0.000488 \n",
      "p=1.414551, f(p)=-0.000954, error=0.000244 \n",
      "p=1.414307, f(p)=-0.000263, error=0.000122 \n",
      "p=1.414185, f(p)=0.000082, error=0.000061 \n",
      "p=1.414246, f(p)=-0.000091, error=0.000031 \n",
      "p=1.414215, f(p)=-0.000004, error=0.000015 \n",
      "p=1.414200, f(p)=0.000039, error=0.000008 \n",
      "f(x)=0 con x=1.41420\n"
     ]
    }
   ],
   "source": [
    "#Intervalo inicial\n",
    "p1=.5 #ptos extremos del intervalo\n",
    "p2=1.5\n",
    "\n",
    "Nmax=1000 #Número máximo de iteraciones\n",
    "Tol=1.0e-5\n",
    "error=1.0\n",
    "iteracion=0\n",
    "while(error>Tol):\n",
    "    p=(p1+p2)*.5\n",
    "    if(sign(f(p))*sign(f(p1))<0):\n",
    "        p2=p\n",
    "    if(sign(f(p))*sign(f(p2))<0):\n",
    "        p1=p\n",
    "    error=abs(p-(p1+p2)*0.5)\n",
    "    iteracion+=1\n",
    "    print(\"p=%.6f, f(p)=%.6f, error=%.6f \"%(p,f(p),error))\n",
    "    if(iteracion>=Nmax):\n",
    "        print(\"se ha alcanzado el número máximo de iteraciones\")\n",
    "        break\n",
    "print(\"f(x)=0 con x=%.5f\"%(p))"
   ]
  },
  {
   "cell_type": "markdown",
   "metadata": {},
   "source": [
    "# Por metodo de N-R"
   ]
  },
  {
   "cell_type": "code",
   "execution_count": 36,
   "metadata": {},
   "outputs": [
    {
     "name": "stdout",
     "output_type": "stream",
     "text": [
      "p=1.6666666666666667 \t error=0.3333333333333333 \t abs(f(p))=1.0802469135802473 \t\n",
      "p=1.4843750000000000 \t error=0.1822916666666667 \t abs(f(p))=0.2240486443042755 \t\n",
      "p=1.4216602315378373 \t error=0.0627147684621627 \t abs(f(p))=0.0213407949689395 \t\n",
      "p=1.4143098661244662 \t error=0.0073503654133711 \t abs(f(p))=0.0002724345171821 \t\n",
      "p=1.4142135787643000 \t error=0.0000962873601662 \t abs(f(p))=0.0000000463613299 \t\n",
      "p=1.4142135623730956 \t error=0.0000000163912044 \t abs(f(p))=0.0000000000000018 \t\n",
      "p=1.4142135623730949 \t error=0.0000000000000007 \t abs(f(p))=0.0000000000000002 \t\n"
     ]
    }
   ],
   "source": [
    "import numpy as np\n",
    "\n",
    "def f(x):\n",
    "    y=(((.5)-1)*x**4)+(x**2)\n",
    "    return y\n",
    "\n",
    "def dfdx(x):\n",
    "    y=(4*((.5)-1)*x**3)+(2*x)\n",
    "    return y\n",
    "\n",
    "Tol=1.e-8\n",
    "Nmax=1000\n",
    "error=1.\n",
    "iteracion=0\n",
    "p_prev=2.\n",
    "\n",
    "\n",
    "while(error>Tol):\n",
    "    p=p_prev-f(p_prev)/dfdx(p_prev)\n",
    "    error=abs(p-p_prev)\n",
    "    p_prev=p\n",
    "    iteracion+=1\n",
    "    if(iteracion>Nmax):\n",
    "        print(\"El metodo no converge despues de %d iteraciones\", Nmax)\n",
    "        break\n",
    "    print(\"p=%.16f \\t error=%.16f \\t abs(f(p))=%.16f \\t\" %(p,error,abs(f(p))))"
   ]
  },
  {
   "cell_type": "code",
   "execution_count": 39,
   "metadata": {},
   "outputs": [
    {
     "name": "stdout",
     "output_type": "stream",
     "text": [
      "p=0.0497474747474747 \t error=0.0502525252525253 \t abs(f(p))=0.0024717488984045 \t\n",
      "p=0.0248428821103212 \t error=0.0249045926371535 \t abs(f(p))=0.0006169783428887 \t\n",
      "p=0.0124176056251703 \t error=0.0124252764851510 \t abs(f(p))=0.0001541850411157 \t\n",
      "p=0.0062083240495967 \t error=0.0062092815755736 \t abs(f(p))=0.0000385425447123 \t\n",
      "p=0.0031041022001878 \t error=0.0031042218494089 \t abs(f(p))=0.0000096354040483 \t\n",
      "p=0.0015520436226661 \t error=0.0015520585775217 \t abs(f(p))=0.0000024088365054 \t\n",
      "p=0.0007760208766748 \t error=0.0007760227459913 \t abs(f(p))=0.0000006022082197 \t\n",
      "p=0.0003880103215058 \t error=0.0003880105551691 \t abs(f(p))=0.0000001505519983 \t\n",
      "p=0.0001940051461490 \t error=0.0001940051753568 \t abs(f(p))=0.0000000376379960 \t\n",
      "p=0.0000970025712490 \t error=0.0000970025749000 \t abs(f(p))=0.0000000094094988 \t\n",
      "p=0.0000485012853963 \t error=0.0000485012858527 \t abs(f(p))=0.0000000023523747 \t\n",
      "p=0.0000242506426696 \t error=0.0000242506427267 \t abs(f(p))=0.0000000005880937 \t\n",
      "p=0.0000121253213312 \t error=0.0000121253213384 \t abs(f(p))=0.0000000001470234 \t\n",
      "p=0.0000060626606652 \t error=0.0000060626606661 \t abs(f(p))=0.0000000000367559 \t\n",
      "p=0.0000030313303325 \t error=0.0000030313303326 \t abs(f(p))=0.0000000000091890 \t\n",
      "p=0.0000015156651663 \t error=0.0000015156651663 \t abs(f(p))=0.0000000000022972 \t\n",
      "p=0.0000007578325831 \t error=0.0000007578325831 \t abs(f(p))=0.0000000000005743 \t\n",
      "p=0.0000003789162916 \t error=0.0000003789162916 \t abs(f(p))=0.0000000000001436 \t\n",
      "p=0.0000001894581458 \t error=0.0000001894581458 \t abs(f(p))=0.0000000000000359 \t\n",
      "p=0.0000000947290729 \t error=0.0000000947290729 \t abs(f(p))=0.0000000000000090 \t\n",
      "p=0.0000000473645364 \t error=0.0000000473645364 \t abs(f(p))=0.0000000000000022 \t\n",
      "p=0.0000000236822682 \t error=0.0000000236822682 \t abs(f(p))=0.0000000000000006 \t\n",
      "p=0.0000000118411341 \t error=0.0000000118411341 \t abs(f(p))=0.0000000000000001 \t\n",
      "p=0.0000000059205671 \t error=0.0000000059205671 \t abs(f(p))=0.0000000000000000 \t\n"
     ]
    }
   ],
   "source": [
    "import numpy as np\n",
    "\n",
    "def f(x):\n",
    "    y=(((.5)-1)*x**4)+(x**2)\n",
    "    return y\n",
    "\n",
    "def dfdx(x):\n",
    "    y=(4*((.5)-1)*x**3)+(2*x)\n",
    "    return y\n",
    "\n",
    "Tol=1.e-8\n",
    "Nmax=1000\n",
    "error=1.\n",
    "iteracion=0\n",
    "p_prev=.1\n",
    "\n",
    "\n",
    "while(error>Tol):\n",
    "    p=p_prev-f(p_prev)/dfdx(p_prev)\n",
    "    error=abs(p-p_prev)\n",
    "    p_prev=p\n",
    "    iteracion+=1\n",
    "    if(iteracion>Nmax):\n",
    "        print(\"El metodo no converge despues de %d iteraciones\", Nmax)\n",
    "        break\n",
    "    print(\"p=%.16f \\t error=%.16f \\t abs(f(p))=%.16f \\t\" %(p,error,abs(f(p))))"
   ]
  },
  {
   "cell_type": "code",
   "execution_count": null,
   "metadata": {},
   "outputs": [],
   "source": []
  }
 ],
 "metadata": {
  "kernelspec": {
   "display_name": "Python 3",
   "language": "python",
   "name": "python3"
  },
  "language_info": {
   "codemirror_mode": {
    "name": "ipython",
    "version": 3
   },
   "file_extension": ".py",
   "mimetype": "text/x-python",
   "name": "python",
   "nbconvert_exporter": "python",
   "pygments_lexer": "ipython3",
   "version": "3.6.4"
  }
 },
 "nbformat": 4,
 "nbformat_minor": 2
}
