{
 "cells": [
  {
   "cell_type": "markdown",
   "metadata": {},
   "source": [
    "# Using Fixed point method solve"
   ]
  },
  {
   "cell_type": "markdown",
   "metadata": {},
   "source": [
    "An object falling vertically through the air is subjected to viscous resistance as well as to the force of gravity. Assume that an object with mass m is dropped from a height s0 and that the height of the object after t seconds is\n",
    "\n",
    "s(t)=s0−mgkt+m2gk2(1−exp(−kt/m)),\n",
    "\n",
    "where g=32.17ft/s2 and k represents the coefficient of air resistance in lb−s/ft. Suppose s0=300ft, m=0.25lb, and k=0.1lb−s/ft. Find the time it takes this object to hit the ground."
   ]
  },
  {
   "cell_type": "code",
   "execution_count": 9,
   "metadata": {},
   "outputs": [],
   "source": [
    "#Liberias útiles \n",
    "import numpy as np\n",
    "import math "
   ]
  },
  {
   "cell_type": "code",
   "execution_count": 10,
   "metadata": {},
   "outputs": [],
   "source": [
    "# Inputs\n",
    "g = 32.17 #ft/s**2\n",
    "k = 0.1   #lbs/ft\n",
    "S = 300   #ft\n",
    "m = 0.25  #0.25lb\n",
    "\n",
    "\n",
    "p_prev_2 = 0.0\n",
    "p_prev_1 = 5.0\n",
    "Tol = 1e-8\n",
    "error = 1.0\n",
    "Nmax =1000\n",
    "iteracion = 0"
   ]
  },
  {
   "cell_type": "code",
   "execution_count": 11,
   "metadata": {},
   "outputs": [],
   "source": [
    "# La funcion a resolver\n",
    "def f(t):\n",
    "    value=S-((m*g/k)*t)+(((m**2)*g)/k**2)*(1-(math.e)**((-k*t)/m))\n",
    "    return value\n"
   ]
  },
  {
   "cell_type": "code",
   "execution_count": 12,
   "metadata": {},
   "outputs": [
    {
     "name": "stdout",
     "output_type": "stream",
     "text": [
      "p_n = 6.5710692792879009\t error = 1.5710692792879009\t abs(f(p_n)) = -41.9308265585943900\n",
      "p_n = 5.9914661094868897\t error = 0.5796031698010111\t abs(f(p_n)) = 0.8964900790549279\n",
      "p_n = 6.0035987512751126\t error = 0.0121326417882228\t abs(f(p_n)) = 0.0093295147485151\n",
      "p_n = 6.0037249841067499\t error = 0.5673442951811509\t abs(f(p_n)) = 0.0000968848821117\n",
      "p_n = 6.0037262950028776\t error = 0.0000013108961276\t abs(f(p_n)) = 0.0000010061052933\n",
      "p_n = 6.0037263086159349\t error = 0.5673429706719659\t abs(f(p_n)) = 0.0000000104479909\n",
      "p_n = 6.0037263087573010\t error = 0.0000000001413660\t abs(f(p_n)) = 0.0000000001084857\n",
      "El valor de t es 6.0037263087573010\n"
     ]
    }
   ],
   "source": [
    "# Implementacion de algoritmo\n",
    "\n",
    "while (error>Tol):\n",
    "    p = p_prev_1 - (p_prev_1 - p_prev_2)*f(p_prev_1)/(f(p_prev_1)-f(p_prev_2))\n",
    "    error = abs(p-p_prev_1)\n",
    "    if (f(p)*f(p_prev_1)<0):\n",
    "        p_prev_2 = p_prev_1\n",
    "        p_prev_1 = p\n",
    "        print(\"p_n = %.16f\\t error = %.16f\\t abs(f(p_n)) = %.16f\" %(p,error,f(p)))\n",
    "    elif (f(p)*f(p_prev_1)>0):\n",
    "        p_prev_1 = p_prev_2\n",
    "        p_prev_2 = p\n",
    "        print(\"p_n = %.16f\\t error = %.16f\\t abs(f(p_n)) = %.16f\" %(p,error,f(p)))\n",
    "    \n",
    "    iteraccion = iteracion+1\n",
    "    if(iteracion>= Nmax):\n",
    "        print(\"El método no converge despues de %d iteracciones\" &Nmax)\n",
    "        break\n",
    "print(\"El valor de t es %.16f\"%p)"
   ]
  }
 ],
 "metadata": {
  "kernelspec": {
   "display_name": "Python 3",
   "language": "python",
   "name": "python3"
  },
  "language_info": {
   "codemirror_mode": {
    "name": "ipython",
    "version": 3
   },
   "file_extension": ".py",
   "mimetype": "text/x-python",
   "name": "python",
   "nbconvert_exporter": "python",
   "pygments_lexer": "ipython3",
   "version": "3.6.4"
  }
 },
 "nbformat": 4,
 "nbformat_minor": 2
}
