{
 "cells": [
  {
   "cell_type": "markdown",
   "metadata": {},
   "source": [
    "# Using bisection method solve:"
   ]
  },
  {
   "cell_type": "markdown",
   "metadata": {},
   "source": [
    "The speed v of a Saturn V rocket in vertical flight near the surface of the earth can be approximated by\n",
    "v=ulnM0M0−m˙t−gt\n",
    "\n",
    "where u=2510m/s: velocity of exhaust relative to the rocket, M0=2.8×106kg: mass of rocket at liftoff, m˙=13.3×103kg/s: rate of fuel consumption, g: gravitational acceleration, t: time measured from liftoff.\n",
    "\n",
    "Determine the time when the rocket reaches the speed of sound (335 m/s). Does bisection method lead you to the right answer?"
   ]
  },
  {
   "cell_type": "code",
   "execution_count": 24,
   "metadata": {},
   "outputs": [],
   "source": [
    "import numpy as np\n",
    "import matplotlib.pyplot as plt"
   ]
  },
  {
   "cell_type": "code",
   "execution_count": 26,
   "metadata": {},
   "outputs": [],
   "source": [
    "# Definimos la función a resolver\n",
    "\n",
    "#inputs\n",
    "u = 2510  #m/s\n",
    "v = 355  #m/s\n",
    "m = 13.3e3 #kg/s\n",
    "M = 2.8e6  #kg\n",
    "g = 9.8 #m/s\n",
    "\n",
    "\n",
    "def func(t):\n",
    "    value= v+u*np.log(1-(m/M)*t)+(g*t)\n",
    "    return value\n",
    "\n",
    "\n",
    "def sign(t):\n",
    "    if t>0:\n",
    "        return 1\n",
    "    elif t<0:\n",
    "        return -1\n",
    "    else:\n",
    "        return 0"
   ]
  },
  {
   "cell_type": "code",
   "execution_count": 25,
   "metadata": {},
   "outputs": [
    {
     "name": "stderr",
     "output_type": "stream",
     "text": [
      "/home/anlly/anaconda3/lib/python3.6/site-packages/matplotlib/cbook/deprecation.py:106: MatplotlibDeprecationWarning: Adding an axes using the same arguments as a previous axes currently reuses the earlier instance.  In a future version, a new instance will always be created and returned.  Meanwhile, this warning can be suppressed, and the future behavior ensured, by passing a unique label to each axes instance.\n",
      "  warnings.warn(message, mplDeprecation, stacklevel=1)\n"
     ]
    },
    {
     "data": {
      "image/png": "[encoded data removed]",
      "text/plain": [
       "<matplotlib.figure.Figure at 0x7fc11c4c5470>"
      ]
     },
     "metadata": {},
     "output_type": "display_data"
    }
   ],
   "source": [
    "#Gráfica\n",
    "x_list=np.linspace(0,80,50)\n",
    "y_list=[]\n",
    "for i in range(0,50):\n",
    "    y_list.append(func(x_list[i]))\n",
    "\n",
    "fig=plt.figure()\n",
    "plt.title(\"Grafica\")\n",
    "ax=plt.axes()\n",
    "ax.plot(x_list,y_list,'.')\n",
    "ax.set_xlabel('tiempo',fontsize=14)\n",
    "ax.set_ylabel('Función(t)',fontsize=14)\n",
    "plt.show()\n"
   ]
  },
  {
   "cell_type": "code",
   "execution_count": 27,
   "metadata": {},
   "outputs": [
    {
     "name": "stdout",
     "output_type": "stream",
     "text": [
      "pi=75.000000\t ai=70.000000\t bi=75.000000\t f(pi)= 15.516516\t error=1.000000\n",
      "pi=72.500000\t ai=72.500000\t bi=75.000000\t f(pi)= 5.862587\t error=2.500000\n",
      "pi=73.750000\t ai=72.500000\t bi=73.750000\t f(pi)= 4.722140\t error=1.250000\n",
      "pi=73.125000\t ai=73.125000\t bi=73.750000\t f(pi)= 0.596191\t error=0.625000\n",
      "pi=73.437500\t ai=73.125000\t bi=73.437500\t f(pi)= 2.056453\t error=0.312500\n",
      "pi=73.281250\t ai=73.125000\t bi=73.281250\t f(pi)= 0.728505\t error=0.156250\n",
      "pi=73.203125\t ai=73.125000\t bi=73.203125\t f(pi)= 0.065751\t error=0.078125\n",
      "pi=73.164062\t ai=73.164062\t bi=73.203125\t f(pi)= 0.265322\t error=0.039062\n",
      "pi=73.183594\t ai=73.183594\t bi=73.203125\t f(pi)= 0.099811\t error=0.019531\n",
      "pi=73.193359\t ai=73.193359\t bi=73.203125\t f(pi)= 0.017036\t error=0.009766\n",
      "pi=73.198242\t ai=73.193359\t bi=73.198242\t f(pi)= 0.024356\t error=0.004883\n",
      "pi=73.195801\t ai=73.193359\t bi=73.195801\t f(pi)= 0.003659\t error=0.002441\n",
      "pi=73.194580\t ai=73.194580\t bi=73.195801\t f(pi)= 0.006689\t error=0.001221\n",
      "pi=73.195190\t ai=73.195190\t bi=73.195801\t f(pi)= 0.001515\t error=0.000610\n",
      "pi=73.195496\t ai=73.195190\t bi=73.195496\t f(pi)= 0.001072\t error=0.000305\n",
      "pi=73.195343\t ai=73.195343\t bi=73.195496\t f(pi)= 0.000221\t error=0.000153\n",
      "solucion t=7.31954e+01\n"
     ]
    }
   ],
   "source": [
    "## Longitud inicial del intervalo\n",
    "ai = 70.0\n",
    "bi = 80.0\n",
    "\n",
    "#Tolerancia\n",
    "Tol = 1e-4\n",
    "\n",
    "#Error inicial\n",
    "error = 1.0\n",
    "\n",
    "#Número maximo de iteracciones\n",
    "Nmax = 1000\n",
    "iteracion=0\n",
    "\n",
    "#verificacion de hipotesis de T.del valor medio\n",
    "if (sign(func(ai))*sign(func(bi))<0):\n",
    "    while(error>Tol):\n",
    "        pi=(ai+bi)*.5\n",
    "        pi_previo=pi\n",
    "        \n",
    "        if(sign(func(pi))==sign(func(ai))):\n",
    "            ai=pi\n",
    "            bi=bi\n",
    "            #pi=(ai+bi)*.5\n",
    "        elif(sign(func(pi))==sign(func(bi))):\n",
    "            ai=ai\n",
    "            bi=pi\n",
    "            \n",
    "        print(\"pi=%f\\t ai=%f\\t bi=%f\\t f(pi)=% f\\t error=%f\"%(pi, ai, bi, abs(func(pi)), error))\n",
    "        pi=(ai+bi)*.5\n",
    "        error=abs(pi-pi_previo)\n",
    "        iteracion+=1\n",
    "        \n",
    "        \n",
    "        if (iteracion>=Nmax):\n",
    "            print(\"Número máximo de iteraciones excedido\")\n",
    "            break\n",
    "    print(\"solucion t=%.5e\"%(pi))\n",
    "else:\n",
    "    print(\"Intervalo inadecuado\")\n",
    "    \n"
   ]
  }
 ],
 "metadata": {
  "kernelspec": {
   "display_name": "Python 3",
   "language": "python",
   "name": "python3"
  },
  "language_info": {
   "codemirror_mode": {
    "name": "ipython",
    "version": 3
   },
   "file_extension": ".py",
   "mimetype": "text/x-python",
   "name": "python",
   "nbconvert_exporter": "python",
   "pygments_lexer": "ipython3",
   "version": "3.6.4"
  }
 },
 "nbformat": 4,
 "nbformat_minor": 2
}
