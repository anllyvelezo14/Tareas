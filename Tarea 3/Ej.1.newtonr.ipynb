{
 "cells": [
  {
   "cell_type": "markdown",
   "metadata": {},
   "source": [
    "# Using the Newton Raphson method solve:"
   ]
  },
  {
   "cell_type": "markdown",
   "metadata": {},
   "source": [
    "The figure shows the thermodynamic cycle of an engine. The efficiency of this engine for monatomic gas is\n",
    "\n",
    "$$\n",
    "\\begin{equation}\n",
    "η=ln\\frac{T2}{T1}−1+\\frac{T1}{T2}ln\\frac{T2}{T1}+(1−\\frac{T1}{T2})/(γ−1)\n",
    "\\end{equation}\n",
    "$$\n",
    "\n",
    "where T is the absolute temperature and γ=5/3. Find T2/T1 that results in 30% efficiency (η=0.3)."
   ]
  },
  {
   "cell_type": "code",
   "execution_count": 62,
   "metadata": {},
   "outputs": [],
   "source": [
    "import numpy as np\n",
    "import matplotlib.pyplot as plt"
   ]
  },
  {
   "cell_type": "code",
   "execution_count": 63,
   "metadata": {},
   "outputs": [
    {
     "name": "stderr",
     "output_type": "stream",
     "text": [
      "/home/anlly/anaconda3/lib/python3.6/site-packages/matplotlib/cbook/deprecation.py:106: MatplotlibDeprecationWarning: Adding an axes using the same arguments as a previous axes currently reuses the earlier instance.  In a future version, a new instance will always be created and returned.  Meanwhile, this warning can be suppressed, and the future behavior ensured, by passing a unique label to each axes instance.\n",
      "  warnings.warn(message, mplDeprecation, stacklevel=1)\n"
     ]
    },
    {
     "data": {
      "image/png": "[encoded data removed]",
      "text/plain": [
       "<matplotlib.figure.Figure at 0x7fdb49899e48>"
      ]
     },
     "metadata": {},
     "output_type": "display_data"
    }
   ],
   "source": [
    "t = 5/3.\n",
    "n = 0.3\n",
    "b=t-1\n",
    "\n",
    "def f(x):\n",
    "    return b*x*np.log(x)*(1-n)-x*(b+n)+b+n\n",
    "    #return np.cos(x)-x\n",
    "def dfdx(x):\n",
    "    return b*(1-n)*(np.log(x)-1)-(b+n) \n",
    "\n",
    "\n",
    "#Gráfica\n",
    "x_list=np.linspace(1,8,50)\n",
    "y_list=[]\n",
    "for i in range(0,50):\n",
    "    y_list.append(f(x_list[i]))\n",
    "\n",
    "fig=plt.figure()\n",
    "plt.title(\"Grafica\")\n",
    "ax=plt.axes()\n",
    "ax.plot(x_list,y_list,'.')\n",
    "ax.set_xlabel('x',fontsize=14)\n",
    "ax.set_ylabel('F(x)',fontsize=14)\n",
    "plt.show()"
   ]
  },
  {
   "cell_type": "code",
   "execution_count": 64,
   "metadata": {},
   "outputs": [],
   "source": [
    "Tol=1.e-8\n",
    "Nmax=100\n",
    "error=1.\n",
    "iteracion=0\n",
    "p_prev=2."
   ]
  },
  {
   "cell_type": "code",
   "execution_count": 65,
   "metadata": {},
   "outputs": [
    {
     "name": "stdout",
     "output_type": "stream",
     "text": [
      "p=1.7119204594800081 \t error=0.2880795405199919 \t abs(f(p))=0.2586905372356383 \t\n",
      "p=1.4931446780693352 \t error=0.2187757814106730 \t abs(f(p))=0.1973699189240881 \t\n",
      "p=1.3347741302433624 \t error=0.1583705478259727 \t abs(f(p))=0.1437466497726639 \t\n",
      "p=1.2240786743133765 \t error=0.1106954559299860 \t abs(f(p))=0.1011119144331652 \t\n",
      "p=1.1485644686220988 \t error=0.0755142056912776 \t abs(f(p))=0.0693698688441034 \t\n",
      "p=1.0978812119893617 \t error=0.0506832566327371 \t abs(f(p))=0.0467746671128849 \t\n",
      "p=1.0642244399341589 \t error=0.0336567720552028 \t abs(f(p))=0.0311697386476529 \t\n",
      "p=1.0420282778990024 \t error=0.0221961620351565 \t abs(f(p))=0.0206076402029996 \t\n",
      "p=1.0274555229429301 \t error=0.0145727549560724 \t abs(f(p))=0.0135534614244309 \t\n",
      "p=1.0179154908915398 \t error=0.0095400320513903 \t abs(f(p))=0.0088832969332086 \t\n",
      "p=1.0116818029471017 \t error=0.0062336879444380 \t abs(f(p))=0.0058091830225929 \t\n",
      "p=1.0076135009503551 \t error=0.0040683019967467 \t abs(f(p))=0.0037932594107284 \t\n",
      "p=1.0049604894817648 \t error=0.0026530114685903 \t abs(f(p))=0.0024745127045901 \t\n",
      "p=1.0032312994566623 \t error=0.0017291900251024 \t abs(f(p))=0.0016132160457991 \t\n",
      "p=1.0021046164728411 \t error=0.0011266829838212 \t abs(f(p))=0.0010512754316033 \t\n",
      "p=1.0013706661054067 \t error=0.0007339503674344 \t abs(f(p))=0.0006848948835520 \t\n",
      "p=1.0008926192769962 \t error=0.0004780468284105 \t abs(f(p))=0.0004461237809828 \t\n",
      "p=1.0005812796862488 \t error=0.0003113395907475 \t abs(f(p))=0.0002905610183122 \t\n",
      "p=1.0003785243356458 \t error=0.0002027553506030 \t abs(f(p))=0.0001892287398835 \t\n",
      "p=1.0002464880154236 \t error=0.0001320363202222 \t abs(f(p))=0.0001232298323967 \t\n",
      "p=1.0001605068144459 \t error=0.0000859812009777 \t abs(f(p))=0.0000802473963091 \t\n",
      "p=1.0001045173332161 \t error=0.0000559894812298 \t abs(f(p))=0.0000522561177933 \t\n",
      "p=1.0000680583360215 \t error=0.0000364589971946 \t abs(f(p))=0.0000340280872500 \t\n",
      "p=1.0000443172839844 \t error=0.0000237410520372 \t abs(f(p))=0.0000221581837272 \t\n",
      "p=1.0000288578629779 \t error=0.0000154594210064 \t abs(f(p))=0.0000144287371763 \t\n",
      "p=1.0000187912075764 \t error=0.0000100666554015 \t abs(f(p))=0.0000093955213966 \t\n",
      "p=1.0000122361525448 \t error=0.0000065550550317 \t abs(f(p))=0.0000061180413372 \t\n",
      "p=1.0000079677346072 \t error=0.0000042684179375 \t abs(f(p))=0.0000039838524905 \t\n",
      "p=1.0000051882954268 \t error=0.0000027794391804 \t abs(f(p))=0.0000025941414325 \t\n",
      "p=1.0000033784262539 \t error=0.0000018098691730 \t abs(f(p))=0.0000016892104637 \t\n",
      "p=1.0000021999060293 \t error=0.0000011785202245 \t abs(f(p))=0.0000010999518854 \t\n",
      "p=1.0000014324971875 \t error=0.0000007674088418 \t abs(f(p))=0.0000007162481150 \t\n",
      "p=1.0000009327889672 \t error=0.0000004997082204 \t abs(f(p))=0.0000004663942807 \t\n",
      "p=1.0000006073975096 \t error=0.0000003253914576 \t abs(f(p))=0.0000003036986688 \t\n",
      "p=1.0000003955146755 \t error=0.0000002118828342 \t abs(f(p))=0.0000001977573014 \t\n",
      "p=1.0000002575444473 \t error=0.0000001379702281 \t abs(f(p))=0.0000001287722083 \t\n",
      "p=1.0000001677033643 \t error=0.0000000898410830 \t abs(f(p))=0.0000000838516757 \t\n",
      "p=1.0000001092021920 \t error=0.0000000585011724 \t abs(f(p))=0.0000000546010933 \t\n",
      "p=1.0000000711084045 \t error=0.0000000380937875 \t abs(f(p))=0.0000000355542011 \t\n",
      "p=1.0000000463031473 \t error=0.0000000248052572 \t abs(f(p))=0.0000000231515732 \t\n",
      "p=1.0000000301508867 \t error=0.0000000161522606 \t abs(f(p))=0.0000000150754433 \t\n",
      "p=1.0000000196331353 \t error=0.0000000105177513 \t abs(f(p))=0.0000000098165676 \t\n",
      "p=1.0000000127843671 \t error=0.0000000068487682 \t abs(f(p))=0.0000000063921836 \t\n",
      "\n",
      " El valor de T_2/T_1 es 1.0000000127843671\n"
     ]
    }
   ],
   "source": [
    "while(error>Tol):\n",
    "    p=p_prev-f(p_prev)/dfdx(p_prev)\n",
    "    error=abs(p-p_prev)\n",
    "    p_prev=p\n",
    "    iteracion+=1\n",
    "    if(iteracion>Nmax):\n",
    "        print(\"El metodo no converge despues de %d iteraciones\", Nmax)\n",
    "        break\n",
    "    print(\"p=%.16f \\t error=%.16f \\t abs(f(p))=%.16f \\t\" %(p,error,abs(f(p)))) \n",
    "    \n",
    "print(\"\\n El valor de T_2/T_1 es %.16f\" %p)"
   ]
  }
 ],
 "metadata": {
  "kernelspec": {
   "display_name": "Python 3",
   "language": "python",
   "name": "python3"
  },
  "language_info": {
   "codemirror_mode": {
    "name": "ipython",
    "version": 3
   },
   "file_extension": ".py",
   "mimetype": "text/x-python",
   "name": "python",
   "nbconvert_exporter": "python",
   "pygments_lexer": "ipython3",
   "version": "3.6.4"
  }
 },
 "nbformat": 4,
 "nbformat_minor": 2
}
