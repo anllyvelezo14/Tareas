{
 "cells": [
  {
   "cell_type": "code",
   "execution_count": null,
   "metadata": {},
   "outputs": [],
   "source": []
  },
  {
   "cell_type": "code",
   "execution_count": 39,
   "metadata": {},
   "outputs": [],
   "source": [
    "##importando las librerias\n",
    "import numpy as np\n",
    "import matplotlib.pyplot as plt\n",
    "## Definiendo constantes\n",
    "\n",
    "t = 1 #tiempo en segundos\n",
    "d = 1.7 #desplazamiento en pies\n",
    "g = 32.17 #gravedad en pies/seg**2\n"
   ]
  },
  {
   "cell_type": "code",
   "execution_count": 49,
   "metadata": {},
   "outputs": [],
   "source": [
    "##definiendo lo necesario para emplear el método de bisección\n",
    "#((-g/2*(x**2)*((np.e**(x)-np.e(-x))/2)-np.sin(x*t))-d)\n",
    "def func(x):\n",
    "    value= -g/(2*x**2)*((np.e**(x)-np.e**(-x))/2-np.sin(x))-1.7\n",
    "    return value\n",
    "   \n",
    "def sign(x):\n",
    "    if x>0:\n",
    "        return 1\n",
    "    elif x<0:\n",
    "        return -1\n",
    "    else:\n",
    "        return 0 \n",
    "  "
   ]
  },
  {
   "cell_type": "code",
   "execution_count": 50,
   "metadata": {},
   "outputs": [
    {
     "data": {
      "image/png": "[encoded data removed]",
      "text/plain": [
       "<matplotlib.figure.Figure at 0x7f8ed8419400>"
      ]
     },
     "metadata": {},
     "output_type": "display_data"
    }
   ],
   "source": [
    "x=np.arange(-1,1,0.1)\n",
    "y=[]\n",
    "for i in range(0,len(x)):\n",
    "    y.append(func(x[i]))\n",
    "plt.plot(x,y)\n",
    "plt.grid()\n",
    "plt.show()\n",
    "    "
   ]
  },
  {
   "cell_type": "code",
   "execution_count": 51,
   "metadata": {},
   "outputs": [
    {
     "name": "stdout",
     "output_type": "stream",
     "text": [
      "pi=-2.500000\t ai=-10.000000\t bi=5.000000\t func(pi)= 12.330578\t error=7.500000\n",
      "pi=1.250000\t ai=-2.500000\t bi=5.000000\t func(pi)= 8.421569\t error=3.750000\n",
      "pi=-0.625000\t ai=-2.500000\t bi=1.250000\t func(pi)= 1.651650\t error=1.875000\n",
      "pi=0.312500\t ai=-0.625000\t bi=1.250000\t func(pi)= 3.375540\t error=0.937500\n",
      "pi=-0.156250\t ai=-0.625000\t bi=0.312500\t func(pi)= 0.862239\t error=0.468750\n",
      "pi=-0.390625\t ai=-0.625000\t bi=-0.156250\t func(pi)= 0.394459\t error=0.234375\n",
      "pi=-0.273438\t ai=-0.390625\t bi=-0.156250\t func(pi)= 0.233910\t error=0.117188\n",
      "pi=-0.332031\t ai=-0.390625\t bi=-0.273438\t func(pi)= 0.080267\t error=0.058594\n",
      "pi=-0.302734\t ai=-0.332031\t bi=-0.273438\t func(pi)= 0.076823\t error=0.029297\n",
      "pi=-0.317383\t ai=-0.332031\t bi=-0.302734\t func(pi)= 0.001721\t error=0.014648\n",
      "pi=-0.310059\t ai=-0.317383\t bi=-0.302734\t func(pi)= 0.037551\t error=0.007324\n",
      "pi=-0.313721\t ai=-0.317383\t bi=-0.310059\t func(pi)= 0.017915\t error=0.003662\n",
      "pi=-0.315552\t ai=-0.317383\t bi=-0.313721\t func(pi)= 0.008097\t error=0.001831\n",
      "pi=-0.316467\t ai=-0.317383\t bi=-0.315552\t func(pi)= 0.003188\t error=0.000916\n",
      "pi=-0.316925\t ai=-0.317383\t bi=-0.316467\t func(pi)= 0.000733\t error=0.000458\n",
      "pi=-0.317154\t ai=-0.317383\t bi=-0.316925\t func(pi)= 0.000494\t error=0.000229\n",
      "pi=-0.317039\t ai=-0.317154\t bi=-0.316925\t func(pi)= 0.000119\t error=0.000114\n",
      "pi=-0.317097\t ai=-0.317154\t bi=-0.317039\t func(pi)= 0.000187\t error=0.000057\n",
      "pi=-0.317068\t ai=-0.317097\t bi=-0.317039\t func(pi)= 0.000034\t error=0.000029\n",
      "pi=-0.317054\t ai=-0.317068\t bi=-0.317039\t func(pi)= 0.000043\t error=0.000014\n",
      "pi=-0.317061\t ai=-0.317068\t bi=-0.317054\t func(pi)= 0.000004\t error=0.000007\n",
      "solucion=-4.43497e-06\n"
     ]
    }
   ],
   "source": [
    "##método de bisección\n",
    "#Longitud inicial del intervalo \n",
    "ai=-10\n",
    "bi=20\n",
    "\n",
    "Tol= 1.e-5\n",
    "\n",
    "error=1. #Siempre tiene que ser mayor que la tolerancia \n",
    "Nmax=1000 \n",
    "iteracion=0\n",
    "\n",
    "#Verificación del tma del valor medio \n",
    "if (sign(func(ai))*sign(func(bi))<0):\n",
    "    while(error>Tol):\n",
    "        pi=(ai+bi)*.5\n",
    "        pi_previo=pi\n",
    "        \n",
    "        if(sign(func(pi))==sign(func(ai))):\n",
    "            ai=pi\n",
    "            bi=bi\n",
    "            #pi=(ai+bi)*.5\n",
    "        elif(sign(func(pi))==sign(func(bi))):\n",
    "            ai=ai\n",
    "            bi=pi\n",
    "            \n",
    "        pi=(ai+bi)*.5\n",
    "        error=abs(pi-pi_previo)\n",
    "        iteracion+=1\n",
    "        \n",
    "        print(\"pi=%f\\t ai=%f\\t bi=%f\\t func(pi)=% f\\t error=%f\"%(pi, ai, bi, abs(func(pi)), error))\n",
    "        \n",
    "        if (iteracion>=Nmax):\n",
    "            print(\"Número máximo de iteraciones excedido\")\n",
    "            break\n",
    "else:\n",
    "    print(\"Intervalo inadecuado\")\n",
    "    \n",
    "print(\"solucion=%.5e\"%func(pi))"
   ]
  },
  {
   "cell_type": "code",
   "execution_count": null,
   "metadata": {},
   "outputs": [],
   "source": []
  },
  {
   "cell_type": "code",
   "execution_count": null,
   "metadata": {},
   "outputs": [],
   "source": []
  },
  {
   "cell_type": "code",
   "execution_count": null,
   "metadata": {},
   "outputs": [],
   "source": []
  }
 ],
 "metadata": {
  "kernelspec": {
   "display_name": "Python 3",
   "language": "python",
   "name": "python3"
  },
  "language_info": {
   "codemirror_mode": {
    "name": "ipython",
    "version": 3
   },
   "file_extension": ".py",
   "mimetype": "text/x-python",
   "name": "python",
   "nbconvert_exporter": "python",
   "pygments_lexer": "ipython3",
   "version": "3.6.4"
  }
 },
 "nbformat": 4,
 "nbformat_minor": 2
}
