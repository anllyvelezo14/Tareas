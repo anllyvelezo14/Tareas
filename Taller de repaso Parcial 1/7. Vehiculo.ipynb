{
 "cells": [
  {
   "cell_type": "code",
   "execution_count": null,
   "metadata": {},
   "outputs": [],
   "source": []
  },
  {
   "cell_type": "code",
   "execution_count": 28,
   "metadata": {},
   "outputs": [],
   "source": [
    "import numpy as np\n",
    "import matplotlib.pyplot as plt"
   ]
  },
  {
   "cell_type": "code",
   "execution_count": 39,
   "metadata": {},
   "outputs": [],
   "source": [
    "l=89\n",
    "h=49\n",
    "D=30\n",
    "b1=np.radians(11.5)\n",
    "\n",
    "A=l*np.sin(b1)\n",
    "B=l*np.cos(b1)\n",
    "C=(h+.5*D)*np.sin(b1)-.5*D*np.tan(b1)\n",
    "E=(h+.5*D)*np.cos(b1)-.5*D"
   ]
  },
  {
   "cell_type": "code",
   "execution_count": 40,
   "metadata": {},
   "outputs": [],
   "source": [
    "def func(a):\n",
    "    al=np.radians(a)\n",
    "    y=A*np.sin(al)*np.cos(al)+B*np.sin(al)**2-C*np.cos(al)-E*np.sin(al)\n",
    "    return y\n",
    "\n",
    "def sign(x):\n",
    "    if x>0:\n",
    "        return 1\n",
    "    elif x<0:\n",
    "        return -1\n",
    "    else:\n",
    "        return 0 "
   ]
  },
  {
   "cell_type": "code",
   "execution_count": 41,
   "metadata": {},
   "outputs": [
    {
     "data": {
      "image/png": "[encoded data removed]",
      "text/plain": [
       "<matplotlib.figure.Figure at 0x7f426062beb8>"
      ]
     },
     "metadata": {},
     "output_type": "display_data"
    }
   ],
   "source": [
    "x=np.arange(-40,200,0.1)\n",
    "y=[]\n",
    "for i in range(0,len(x)):\n",
    "    y.append(f(x[i]))\n",
    "plt.plot(x,y)\n",
    "plt.grid()\n",
    "plt.show()"
   ]
  },
  {
   "cell_type": "code",
   "execution_count": 42,
   "metadata": {},
   "outputs": [
    {
     "name": "stdout",
     "output_type": "stream",
     "text": [
      "pi=32.500000\t ai=30.000000\t bi=35.000000\t f(pi)= 0.606462\t error=2.500000\n",
      "pi=33.750000\t ai=32.500000\t bi=35.000000\t f(pi)= 0.534805\t error=1.250000\n",
      "pi=33.125000\t ai=32.500000\t bi=33.750000\t f(pi)= 0.040111\t error=0.625000\n",
      "pi=33.437500\t ai=33.125000\t bi=33.750000\t f(pi)= 0.246302\t error=0.312500\n",
      "pi=33.281250\t ai=33.125000\t bi=33.437500\t f(pi)= 0.102831\t error=0.156250\n",
      "pi=33.203125\t ai=33.125000\t bi=33.281250\t f(pi)= 0.031294\t error=0.078125\n",
      "pi=33.164062\t ai=33.125000\t bi=33.203125\t f(pi)= 0.004425\t error=0.039062\n",
      "pi=33.183594\t ai=33.164062\t bi=33.203125\t f(pi)= 0.013430\t error=0.019531\n",
      "pi=33.173828\t ai=33.164062\t bi=33.183594\t f(pi)= 0.004501\t error=0.009766\n",
      "pi=33.168945\t ai=33.164062\t bi=33.173828\t f(pi)= 0.000038\t error=0.004883\n",
      "pi=33.166504\t ai=33.164062\t bi=33.168945\t f(pi)= 0.002194\t error=0.002441\n",
      "pi=33.167725\t ai=33.166504\t bi=33.168945\t f(pi)= 0.001078\t error=0.001221\n",
      "pi=33.168335\t ai=33.167725\t bi=33.168945\t f(pi)= 0.000520\t error=0.000610\n",
      "pi=33.168640\t ai=33.168335\t bi=33.168945\t f(pi)= 0.000241\t error=0.000305\n",
      "pi=33.168793\t ai=33.168640\t bi=33.168945\t f(pi)= 0.000102\t error=0.000153\n",
      "pi=33.168869\t ai=33.168793\t bi=33.168945\t f(pi)= 0.000032\t error=0.000076\n",
      "pi=33.168907\t ai=33.168869\t bi=33.168945\t f(pi)= 0.000003\t error=0.000038\n",
      "pi=33.168888\t ai=33.168869\t bi=33.168907\t f(pi)= 0.000014\t error=0.000019\n",
      "pi=33.168898\t ai=33.168888\t bi=33.168907\t f(pi)= 0.000006\t error=0.000010\n",
      "pi=33.168902\t ai=33.168898\t bi=33.168907\t f(pi)= 0.000001\t error=0.000005\n",
      "pi=33.168905\t ai=33.168902\t bi=33.168907\t f(pi)= 0.000001\t error=0.000002\n",
      "pi=33.168904\t ai=33.168902\t bi=33.168905\t f(pi)= 0.000000\t error=0.000001\n",
      "pi=33.168904\t ai=33.168904\t bi=33.168905\t f(pi)= 0.000000\t error=0.000001\n",
      "pi=33.168904\t ai=33.168904\t bi=33.168904\t f(pi)= 0.000000\t error=0.000000\n",
      "pi=33.168904\t ai=33.168904\t bi=33.168904\t f(pi)= 0.000000\t error=0.000000\n",
      "pi=33.168904\t ai=33.168904\t bi=33.168904\t f(pi)= 0.000000\t error=0.000000\n",
      "pi=33.168904\t ai=33.168904\t bi=33.168904\t f(pi)= 0.000000\t error=0.000000\n",
      "pi=33.168904\t ai=33.168904\t bi=33.168904\t f(pi)= 0.000000\t error=0.000000\n",
      "pi=33.168904\t ai=33.168904\t bi=33.168904\t f(pi)= 0.000000\t error=0.000000\n",
      "solución=3.31689e+01\n"
     ]
    }
   ],
   "source": [
    "#Longitud inicial del intervalo \n",
    "ai=30\n",
    "bi=40\n",
    "\n",
    "#Tolerancia \n",
    "Tol= 1.e-8\n",
    "\n",
    "#Error inicial \n",
    "error=1. #Siempre tiene que ser mayor que la tolerancia \n",
    "#Número máximo de iteraciones \n",
    "Nmax=1000 \n",
    "iteracion=0\n",
    "#Verificación del tma del valor medio \n",
    "\n",
    "if (sign(func(ai))*sign(func(bi))<0):\n",
    "    while(error>Tol):\n",
    "        pi=(ai+bi)*.5\n",
    "        pi_previo=pi\n",
    "        \n",
    "        if(sign(func(pi))==sign(func(ai))):\n",
    "            ai=pi\n",
    "            bi=bi\n",
    "            #pi=(ai+bi)*.5\n",
    "        elif(sign(func(pi))==sign(func(bi))):\n",
    "            ai=ai\n",
    "            bi=pi\n",
    "            \n",
    "        pi=(ai+bi)*.5\n",
    "        error=abs(pi-pi_previo)\n",
    "        iteracion+=1\n",
    "        \n",
    "        print(\"pi=%f\\t ai=%f\\t bi=%f\\t f(pi)=% f\\t error=%f\"%(pi, ai, bi, abs(func(pi)), error))\n",
    "        \n",
    "        if (iteracion>=Nmax):\n",
    "            print(\"Número máximo de iteraciones excedido\")\n",
    "            break\n",
    "else:\n",
    "    print(\"Intervalo inadecuado\")\n",
    "    \n",
    "print(\"solución=%.5e\"%pi)"
   ]
  },
  {
   "cell_type": "code",
   "execution_count": null,
   "metadata": {},
   "outputs": [],
   "source": []
  },
  {
   "cell_type": "code",
   "execution_count": null,
   "metadata": {},
   "outputs": [],
   "source": []
  }
 ],
 "metadata": {
  "kernelspec": {
   "display_name": "Python 3",
   "language": "python",
   "name": "python3"
  },
  "language_info": {
   "codemirror_mode": {
    "name": "ipython",
    "version": 3
   },
   "file_extension": ".py",
   "mimetype": "text/x-python",
   "name": "python",
   "nbconvert_exporter": "python",
   "pygments_lexer": "ipython3",
   "version": "3.6.4"
  }
 },
 "nbformat": 4,
 "nbformat_minor": 2
}
