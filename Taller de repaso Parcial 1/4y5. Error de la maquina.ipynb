{
 "cells": [
  {
   "cell_type": "code",
   "execution_count": 14,
   "metadata": {},
   "outputs": [
    {
     "name": "stdout",
     "output_type": "stream",
     "text": [
      "0b1001101011100100011110010101011110010110101001111011101010111110010101010110010011100110111100111001111110001110\n",
      "114\n"
     ]
    }
   ],
   "source": [
    "b=bin(3141592653589793238462643383279502)\n",
    "print (b)\n",
    "print (len(b))"
   ]
  },
  {
   "cell_type": "code",
   "execution_count": 15,
   "metadata": {},
   "outputs": [
    {
     "data": {
      "text/plain": [
       "Decimal('3.45000000000000017763568394002504646778106689453125')"
      ]
     },
     "execution_count": 15,
     "metadata": {},
     "output_type": "execute_result"
    }
   ],
   "source": [
    "from decimal import Decimal\n",
    "Decimal(3.45)"
   ]
  },
  {
   "cell_type": "markdown",
   "metadata": {},
   "source": [
    "# Precision de la maquina"
   ]
  },
  {
   "cell_type": "code",
   "execution_count": 22,
   "metadata": {},
   "outputs": [
    {
     "name": "stdout",
     "output_type": "stream",
     "text": [
      "1.1102230246251565e-16\n"
     ]
    }
   ],
   "source": [
    "## Evalua experimentalmente la presición del pc personal\n",
    "   ##E es la presision de la maquina\n",
    "    \n",
    "    #Se crea un ciclo dónde el valor inicial será \n",
    "\n",
    "E=1   \n",
    "while (1+E!=1):\n",
    "    E*=.5     #c *= a is equivalent to c = c * a\n",
    "print(E)\n"
   ]
  },
  {
   "cell_type": "code",
   "execution_count": 23,
   "metadata": {},
   "outputs": [],
   "source": [
    "##Calculando experimentalmente la precision de la maquina para una arquitectura de 16 bits"
   ]
  },
  {
   "cell_type": "code",
   "execution_count": 12,
   "metadata": {},
   "outputs": [
    {
     "name": "stdout",
     "output_type": "stream",
     "text": [
      "1.1102230246251565e-16\n"
     ]
    }
   ],
   "source": [
    "import numpy as np\n",
    "\n",
    "E= np.float16(1)   \n",
    "while (np.float16(1)+E!= np.float16(1)):\n",
    "    E*= np.float(.5)     #c *= a is equivalent to c = c * a\n",
    "print(E)"
   ]
  },
  {
   "cell_type": "code",
   "execution_count": 6,
   "metadata": {},
   "outputs": [
    {
     "name": "stdout",
     "output_type": "stream",
     "text": [
      "1.1102230246251565e-16\n"
     ]
    }
   ],
   "source": [
    "E=np.float16(1)\n",
    "while (np.float16(1)+E!=np.float16(1)):\n",
    "    E*=np.float(.5)\n",
    "print(E)\n"
   ]
  },
  {
   "cell_type": "code",
   "execution_count": null,
   "metadata": {},
   "outputs": [],
   "source": []
  }
 ],
 "metadata": {
  "kernelspec": {
   "display_name": "Python 3",
   "language": "python",
   "name": "python3"
  },
  "language_info": {
   "codemirror_mode": {
    "name": "ipython",
    "version": 3
   },
   "file_extension": ".py",
   "mimetype": "text/x-python",
   "name": "python",
   "nbconvert_exporter": "python",
   "pygments_lexer": "ipython3",
   "version": "3.6.4"
  }
 },
 "nbformat": 4,
 "nbformat_minor": 2
}
